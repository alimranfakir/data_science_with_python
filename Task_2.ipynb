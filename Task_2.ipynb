{
  "nbformat": 4,
  "nbformat_minor": 0,
  "metadata": {
    "colab": {
      "name": "Task-2.ipynb",
      "provenance": [],
      "collapsed_sections": []
    },
    "kernelspec": {
      "name": "python3",
      "display_name": "Python 3"
    },
    "language_info": {
      "name": "python"
    }
  },
  "cells": [
    {
      "cell_type": "code",
      "metadata": {
        "colab": {
          "base_uri": "https://localhost:8080/"
        },
        "id": "znDKNy26H2FG",
        "outputId": "7d5952b4-88d7-414c-f782-043f3c51005b"
      },
      "source": [
        "#Write a Python program to insert a new item before the second element in an existing list.\n",
        "item =[1,3,4,5,6]\n",
        "item.insert(1,2)\n",
        "item"
      ],
      "execution_count": 2,
      "outputs": [
        {
          "output_type": "execute_result",
          "data": {
            "text/plain": [
              "[1, 2, 3, 4, 5, 6]"
            ]
          },
          "metadata": {
            "tags": []
          },
          "execution_count": 2
        }
      ]
    },
    {
      "cell_type": "code",
      "metadata": {
        "colab": {
          "base_uri": "https://localhost:8080/"
        },
        "id": "XsKIzLiAN6-6",
        "outputId": "622c13f3-9c2a-4097-a619-5961f1a6d023"
      },
      "source": [
        "#write a Python program to find the first duplicate element in a given list of integers. Return -1 If there are no such elements\n",
        "def find_duplicate_element(values):\n",
        "  for i in range(len(values)):\n",
        "      for j in range(i+1,len(values)):\n",
        "          if values[i]==values[j]:\n",
        "              return values[j]\n",
        "  return -1            \n",
        "x=find_duplicate_element(values=[4,6,3,5])\n",
        "y=find_duplicate_element(values=[4,6,3,6,5])\n",
        "print(x,y)"
      ],
      "execution_count": 23,
      "outputs": [
        {
          "output_type": "stream",
          "text": [
            "-1 6\n"
          ],
          "name": "stdout"
        }
      ]
    },
    {
      "cell_type": "code",
      "metadata": {
        "id": "50HsGkADPSYu"
      },
      "source": [
        "#Write a Python program to convert temperatures to and from celsius, fahrenheit.\n"
      ],
      "execution_count": null,
      "outputs": []
    },
    {
      "cell_type": "code",
      "metadata": {
        "colab": {
          "base_uri": "https://localhost:8080/"
        },
        "id": "i8IOyJnqQRUL",
        "outputId": "fe051ddd-d099-48a9-f4f1-41cca156103f"
      },
      "source": [
        "#Write a Python program to construct the following pattern, using a nested for loop.\n",
        "\n",
        "for i in range(5):\n",
        "    for j in range(i):\n",
        "        print ('* ', end=\"\")\n",
        "    print('')\n",
        "\n",
        "for i in range(5,0,-1):\n",
        "    for j in range(i):\n",
        "        print('* ',end=\"\")\n",
        "    print('')"
      ],
      "execution_count": 27,
      "outputs": [
        {
          "output_type": "stream",
          "text": [
            "\n",
            "* \n",
            "* * \n",
            "* * * \n",
            "* * * * \n",
            "* * * * * \n",
            "* * * * \n",
            "* * * \n",
            "* * \n",
            "* \n"
          ],
          "name": "stdout"
        }
      ]
    },
    {
      "cell_type": "code",
      "metadata": {
        "colab": {
          "base_uri": "https://localhost:8080/"
        },
        "id": "8136IqwfQsSL",
        "outputId": "c14e7997-69ed-4502-ae1f-045c8b2a834c"
      },
      "source": [
        "#Write a Python program that prints all the numbers from 0 to 6 except 3 and 6.  Note : Use 'continue' statement. \n",
        "for i in range(0,6):\n",
        "    if i==3 or i==6:\n",
        "      continue\n",
        "    print(i)  \n",
        "    \n"
      ],
      "execution_count": 33,
      "outputs": [
        {
          "output_type": "stream",
          "text": [
            "0\n",
            "1\n",
            "2\n",
            "4\n",
            "5\n"
          ],
          "name": "stdout"
        }
      ]
    },
    {
      "cell_type": "code",
      "metadata": {
        "colab": {
          "base_uri": "https://localhost:8080/"
        },
        "id": "IhmCVwSbKzM8",
        "outputId": "d4df3032-ee59-4c7c-e271-f8429c4bfa45"
      },
      "source": [
        "#Write a Python function to check whether a string is a pangram or not. Note :\n",
        "# Pangrams are words or sentences containing every letter of the alphabet at least once.\n",
        "\n",
        "def ispangram(str):\n",
        "   all = \"abcdefghijklmnopqrstuvwxyz\"\n",
        "   for i in all:\n",
        "      if i not in str.lower():\n",
        "         return False\n",
        "   return True\n",
        "\n",
        "string = 'imi is the best!'\n",
        "if(ispangram(string) == True):\n",
        "   print('yes')\n",
        "else:\n",
        "   print('no')\n",
        "\n"
      ],
      "execution_count": 39,
      "outputs": [
        {
          "output_type": "stream",
          "text": [
            "no\n"
          ],
          "name": "stdout"
        }
      ]
    },
    {
      "cell_type": "code",
      "metadata": {
        "colab": {
          "base_uri": "https://localhost:8080/"
        },
        "id": "E3aEbOtvTu3_",
        "outputId": "7b5870d4-6292-49ad-f0ae-d5da27c861d1"
      },
      "source": [
        "#Write a Python program to sort a tuple by its float element.\n",
        "#Sample data: [('item1', '12.20'), ('item2', '15.10'), ('item3', '24.5')]\n",
        "#Expected Output: [('item3', '24.5'), ('item2', '15.10'), ('item1', '12.20')]\n",
        "\n",
        "data= [('item1', '12.20'), ('item2', '15.10'), ('item3', '24.5')]\n",
        "sorted_data = sorted(data,key=lambda x:float(x[1]), reverse=True)\n",
        "\n",
        "print(sorted_data)"
      ],
      "execution_count": 45,
      "outputs": [
        {
          "output_type": "stream",
          "text": [
            "[('item3', '24.5'), ('item2', '15.10'), ('item1', '12.20')]\n"
          ],
          "name": "stdout"
        }
      ]
    },
    {
      "cell_type": "code",
      "metadata": {
        "colab": {
          "base_uri": "https://localhost:8080/"
        },
        "id": "cRH-ThI1VZ9O",
        "outputId": "162d508e-7b06-4080-c19e-625fc844c751"
      },
      "source": [
        "#Write a Python program to print a specified list after removing the 0th, 4th and 5th elements.\n",
        "num = [1,2,3,4,5,6]\n",
        "print(num)\n",
        "num = [x for (i,x) in enumerate(num) if i not in (0,4,5)]\n",
        "print(num)"
      ],
      "execution_count": 61,
      "outputs": [
        {
          "output_type": "stream",
          "text": [
            "[1, 2, 3, 4, 5, 6]\n",
            "[2, 3, 4]\n"
          ],
          "name": "stdout"
        }
      ]
    },
    {
      "cell_type": "code",
      "metadata": {
        "colab": {
          "base_uri": "https://localhost:8080/"
        },
        "id": "Xfb12jNGWb7r",
        "outputId": "ab9cf4c8-59a1-40f8-8164-15a54998a77e"
      },
      "source": [
        "#Write a Python program to convert more than one list to nested dictionary.\n",
        "def nested_dictionary(first_string, second_string, third_string):\n",
        "     result = [{x: {y: z}} for (x, y, z) in zip(first_string, second_string, third_string)]\n",
        "     return result\n",
        "\n",
        "first_string = [\"imran\", \"sornali\", \"rukon\", \"dhurobo\"] \n",
        "second_string = [\"cse\", \" cse\", \"cse\", \"cse\"] \n",
        "third_string = [181, 182, 183, 184]\n",
        "print(\"Before nested:\")\n",
        "print(first_string)\n",
        "print(second_string)\n",
        "print(third_string)\n",
        "\n",
        "x=nested_dictionary(first_string, second_string, third_string)\n",
        "print('After nested dictionary:',x)\n"
      ],
      "execution_count": 79,
      "outputs": [
        {
          "output_type": "stream",
          "text": [
            "Before nested:\n",
            "['imran', 'sornali', 'rukon', 'dhurobo']\n",
            "['cse', ' cse', 'cse', 'cse']\n",
            "[181, 182, 183, 184]\n",
            "After nested dictionary: [{'imran': {'cse': 181}}, {'sornali': {' cse': 182}}, {'rukon': {'cse': 183}}, {'dhurobo': {'cse': 184}}]\n"
          ],
          "name": "stdout"
        }
      ]
    },
    {
      "cell_type": "code",
      "metadata": {
        "colab": {
          "base_uri": "https://localhost:8080/"
        },
        "id": "EbSIKekcckbO",
        "outputId": "e381a43c-f473-4035-9d53-59ec66281381"
      },
      "source": [
        "#Write a Python program to filter the height and width of students, which are stored in a dictionary.\n",
        "def filter_data(orginal_data):\n",
        "    result = dict(filter(lambda x: (x[1][0], x[1][1]) > (6.0, 70), students.items()))\n",
        "    return result  \n",
        "orginal_data = {'Cierra Vega': (6.2, 70), 'Alden Cantrell': (5.9, 65), 'Kierra Gentry': (6.0, 68), 'Pierre Cox': (5.8, 66)}\n",
        "print(\"Original Dictionary:\")\n",
        "print(orginal_data)\n",
        "print(\"height and width of students:\")\n",
        "print(filter_data(orginal_data))"
      ],
      "execution_count": 81,
      "outputs": [
        {
          "output_type": "stream",
          "text": [
            "Original Dictionary:\n",
            "{'Cierra Vega': (6.2, 70), 'Alden Cantrell': (5.9, 65), 'Kierra Gentry': (6.0, 68), 'Pierre Cox': (5.8, 66)}\n",
            "height and width of students:\n",
            "{'Cierra Vega': (6.2, 70)}\n"
          ],
          "name": "stdout"
        }
      ]
    },
    {
      "cell_type": "code",
      "metadata": {
        "id": "hGOgNbUcZv0i"
      },
      "source": [
        ""
      ],
      "execution_count": null,
      "outputs": []
    }
  ]
}